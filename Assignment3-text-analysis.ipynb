{
 "cells": [
  {
   "cell_type": "markdown",
   "metadata": {},
   "source": [
    "# Assignment 3 - Text Analysis\n",
    "An explanation this assignment could be found in the .pdf explanation document"
   ]
  },
  {
   "cell_type": "markdown",
   "metadata": {},
   "source": [
    "\n",
    "## Materials to review for this assignment\n",
    "<h4>From Moodle:</h4> \n",
    "<h5><u>Review the notebooks regarding the following python topics</u>:</h5>\n",
    "<div class=\"alert alert-info\">\n",
    "&#x2714; <b>Working with strings</b> (tutorial notebook)<br/>\n",
    "&#x2714; <b>Text Analysis</b> (tutorial notebook)<br/>\n",
    "&#x2714; <b>Hebrew text analysis tools (tokenizer, wordnet)</b> (moodle example)<br/>\n",
    "&#x2714; <b>(brief review) All previous notebooks</b><br/>\n",
    "</div> \n",
    "<h5><u>Review the presentations regarding the following topics</u>:</h5>\n",
    "<div class=\"alert alert-info\">\n",
    "&#x2714; <b>Text Analysis</b> (lecture presentation)<br/>\n",
    "&#x2714; <b>(brief review) All other presentations</b><br/>\n",
    "</div>"
   ]
  },
  {
   "cell_type": "markdown",
   "metadata": {},
   "source": [
    "## Personal Details:"
   ]
  },
  {
   "cell_type": "code",
   "execution_count": 1,
   "metadata": {},
   "outputs": [
    {
     "data": {
      "text/plain": [
       "'Arad David'"
      ]
     },
     "execution_count": 1,
     "metadata": {},
     "output_type": "execute_result"
    }
   ],
   "source": [
    "# Details Student 1:\n",
    "'Yair Yatzkan'\n",
    "# Details Student 2:\n",
    "'Arad David'"
   ]
  },
  {
   "cell_type": "markdown",
   "metadata": {},
   "source": [
    "## Preceding Step - import modules (packages)\n",
    "This step is necessary in order to use external modules (packages). <br/>"
   ]
  },
  {
   "cell_type": "code",
   "execution_count": 2,
   "metadata": {},
   "outputs": [],
   "source": [
    "# --------------------------------------\n",
    "import pandas as pd\n",
    "import numpy as np\n",
    "# --------------------------------------\n",
    "\n",
    "\n",
    "# --------------------------------------\n",
    "# ------------- visualizations:\n",
    "import seaborn as sns\n",
    "import matplotlib.pyplot as plt\n",
    "from matplotlib.colors import ListedColormap\n",
    "# --------------------------------------\n",
    "\n",
    "\n",
    "# ---------------------------------------\n",
    "import sklearn\n",
    "from sklearn import preprocessing, metrics, pipeline, model_selection, feature_extraction \n",
    "from sklearn import naive_bayes, linear_model, svm, neural_network, neighbors, tree\n",
    "from sklearn import decomposition, cluster\n",
    "\n",
    "from sklearn.model_selection import train_test_split, cross_val_score, GridSearchCV \n",
    "from sklearn.pipeline import Pipeline\n",
    "from sklearn.metrics import accuracy_score, confusion_matrix\n",
    "from sklearn.metrics import precision_score, recall_score, f1_score\n",
    "from sklearn.metrics import mean_squared_error, r2_score, silhouette_score\n",
    "from sklearn.preprocessing import MinMaxScaler, StandardScaler, LabelEncoder\n",
    "\n",
    "from sklearn.svm import LinearSVC\n",
    "from sklearn.neural_network import MLPClassifier\n",
    "from sklearn.linear_model import Perceptron, SGDClassifier\n",
    "from sklearn.decomposition import PCA\n",
    "from sklearn.cluster import KMeans\n",
    "from sklearn.naive_bayes import MultinomialNB, GaussianNB\n",
    "from sklearn.neighbors import KNeighborsClassifier\n",
    "from sklearn.tree import DecisionTreeClassifier\n",
    "# ---------------------------------------\n",
    "\n",
    "\n",
    "# ----------------- output and visualizations: \n",
    "import warnings\n",
    "from sklearn.exceptions import ConvergenceWarning\n",
    "warnings.simplefilter(\"ignore\")\n",
    "warnings.simplefilter(action='ignore', category=FutureWarning)\n",
    "warnings.simplefilter(\"ignore\", category=ConvergenceWarning)\n",
    "# show several prints in one cell. This will allow us to condence every trick in one cell.\n",
    "from IPython.core.interactiveshell import InteractiveShell\n",
    "InteractiveShell.ast_node_interactivity = \"all\"\n",
    "%matplotlib inline\n",
    "pd.pandas.set_option('display.max_columns', None)\n",
    "pd.set_option('display.float_format', lambda x: '%.3f' % x)\n",
    "# ---------------------------------------"
   ]
  },
  {
   "cell_type": "markdown",
   "metadata": {},
   "source": [
    "### Text analysis and String manipulation imports:"
   ]
  },
  {
   "cell_type": "code",
   "execution_count": 3,
   "metadata": {},
   "outputs": [],
   "source": [
    "# --------------------------------------\n",
    "# --------- Text analysis and Hebrew text analysis imports:\n",
    "# vectorizers:\n",
    "from sklearn.feature_extraction import text\n",
    "from sklearn.feature_extraction.text import CountVectorizer, TfidfVectorizer\n",
    "\n",
    "# regular expressions:\n",
    "import re\n",
    "# --------------------------------------"
   ]
  },
  {
   "cell_type": "markdown",
   "metadata": {},
   "source": [
    "### (optional) Hebrew text analysis - WordNet (for Hebrew)\n",
    "Note: the WordNet is not a must"
   ]
  },
  {
   "cell_type": "markdown",
   "metadata": {},
   "source": [
    "#### (optional) Only if you didn't install Wordnet (for Hebrew) use:"
   ]
  },
  {
   "cell_type": "code",
   "execution_count": 82,
   "metadata": {},
   "outputs": [
    {
     "name": "stdout",
     "output_type": "stream",
     "text": [
      "/System/Library/Frameworks/Python.framework/Versions/2.7/Resources/Python.app/Contents/MacOS/Python: No module named wn\r\n"
     ]
    }
   ],
   "source": [
    "# word net installation:\n",
    "\n",
    "# unmark if you want to use and need to install\n",
    "# !pip install wn\n",
    "#!python -m wn download omw-he:1.4"
   ]
  },
  {
   "cell_type": "code",
   "execution_count": 74,
   "metadata": {},
   "outputs": [],
   "source": [
    "# word net import:\n",
    "\n",
    "# unmark if you want to use:\n",
    "#import wn"
   ]
  },
  {
   "cell_type": "markdown",
   "metadata": {},
   "source": [
    "### (optional) Hebrew text analysis - hebrew_tokenizer (Tokenizer for Hebrew)\n",
    "Note: the hebrew_tokenizer is not a must"
   ]
  },
  {
   "cell_type": "markdown",
   "metadata": {},
   "source": [
    "#### (optional) Only if you didn't install hebrew_tokenizer use:"
   ]
  },
  {
   "cell_type": "code",
   "execution_count": 10,
   "metadata": {},
   "outputs": [
    {
     "name": "stdout",
     "output_type": "stream",
     "text": [
      "Collecting hebrew_tokenizer\n",
      "  Downloading hebrew_tokenizer-2.3.0.tar.gz (13 kB)\n",
      "  Preparing metadata (setup.py): started\n",
      "  Preparing metadata (setup.py): finished with status 'done'\n",
      "Building wheels for collected packages: hebrew_tokenizer\n",
      "  Building wheel for hebrew_tokenizer (setup.py): started\n",
      "  Building wheel for hebrew_tokenizer (setup.py): finished with status 'done'\n",
      "  Created wheel for hebrew_tokenizer: filename=hebrew_tokenizer-2.3.0-py3-none-any.whl size=13418 sha256=575c442823da2fd9efc521db94a623905464988d3f7c5f120798b4001008a029\n",
      "  Stored in directory: c:\\users\\yair\\appdata\\local\\pip\\cache\\wheels\\a7\\2f\\af\\95d5eb2e7c291753542d4419e200429a22fb2d74e3f27d7711\n",
      "Successfully built hebrew_tokenizer\n",
      "Installing collected packages: hebrew_tokenizer\n",
      "Successfully installed hebrew_tokenizer-2.3.0\n"
     ]
    }
   ],
   "source": [
    "# Hebrew tokenizer installation:\n",
    "\n",
    "# unmark if you want to use and need to install:\n",
    "!pip install hebrew_tokenizer"
   ]
  },
  {
   "cell_type": "code",
   "execution_count": 4,
   "metadata": {},
   "outputs": [
    {
     "name": "stdout",
     "output_type": "stream",
     "text": [
      "/Users/araddavid/Desktop/Machine Learning - Task 3\n"
     ]
    }
   ],
   "source": [
    "# Hebrew tokenizer import:\n",
    "\n",
    "# unmark if you want to use:\n",
    "import hebrew_tokenizer as ht"
   ]
  },
  {
   "cell_type": "markdown",
   "metadata": {},
   "source": [
    "### Reading input files\n",
    "Reading input files for train annotated corpus (raw text data) corpus and for the test corpus"
   ]
  },
  {
   "cell_type": "code",
   "execution_count": 5,
   "metadata": {},
   "outputs": [],
   "source": [
    "train_filename = 'annotated_corpus_for_train.csv'\n",
    "test_filename  = 'corpus_for_test.csv'\n",
    "df_train = pd.read_csv(train_filename, index_col=None, encoding='utf-8')\n",
    "df_test  = pd.read_csv(test_filename, index_col=None, encoding='utf-8')"
   ]
  },
  {
   "cell_type": "code",
   "execution_count": 6,
   "metadata": {},
   "outputs": [
    {
     "data": {
      "text/html": [
       "<div>\n",
       "<style scoped>\n",
       "    .dataframe tbody tr th:only-of-type {\n",
       "        vertical-align: middle;\n",
       "    }\n",
       "\n",
       "    .dataframe tbody tr th {\n",
       "        vertical-align: top;\n",
       "    }\n",
       "\n",
       "    .dataframe thead th {\n",
       "        text-align: right;\n",
       "    }\n",
       "</style>\n",
       "<table border=\"1\" class=\"dataframe\">\n",
       "  <thead>\n",
       "    <tr style=\"text-align: right;\">\n",
       "      <th></th>\n",
       "      <th>story</th>\n",
       "      <th>gender</th>\n",
       "    </tr>\n",
       "  </thead>\n",
       "  <tbody>\n",
       "    <tr>\n",
       "      <th>0</th>\n",
       "      <td>כשחבר הזמין אותי לחול, לא באמת חשבתי שזה יקרה,...</td>\n",
       "      <td>m</td>\n",
       "    </tr>\n",
       "    <tr>\n",
       "      <th>1</th>\n",
       "      <td>לפני שהתגייסתי לצבא עשיתי כל מני מיונים ליחידו...</td>\n",
       "      <td>m</td>\n",
       "    </tr>\n",
       "    <tr>\n",
       "      <th>2</th>\n",
       "      <td>מאז שהתחילו הלימודים חלומו של כל סטודנט זה הפנ...</td>\n",
       "      <td>f</td>\n",
       "    </tr>\n",
       "    <tr>\n",
       "      <th>3</th>\n",
       "      <td>כשהייתי ילד, מטוסים היה הדבר שהכי ריתק אותי. ב...</td>\n",
       "      <td>m</td>\n",
       "    </tr>\n",
       "    <tr>\n",
       "      <th>4</th>\n",
       "      <td>‏הייתי מדריכה בכפר נוער ומתאם הכפר היינו צריכי...</td>\n",
       "      <td>f</td>\n",
       "    </tr>\n",
       "    <tr>\n",
       "      <th>5</th>\n",
       "      <td>לפני כ3 חודשים טסתי לרומא למשך שבוע. טסתי במטו...</td>\n",
       "      <td>f</td>\n",
       "    </tr>\n",
       "    <tr>\n",
       "      <th>6</th>\n",
       "      <td>אני כבר שנתיים נשוי והשנה אני ואישתי סוף סוף י...</td>\n",
       "      <td>m</td>\n",
       "    </tr>\n",
       "    <tr>\n",
       "      <th>7</th>\n",
       "      <td>השנה התחלנו שיפוץ בדירה שלנו בתל אביב. הדירה ה...</td>\n",
       "      <td>f</td>\n",
       "    </tr>\n",
       "  </tbody>\n",
       "</table>\n",
       "</div>"
      ],
      "text/plain": [
       "                                               story gender\n",
       "0  כשחבר הזמין אותי לחול, לא באמת חשבתי שזה יקרה,...      m\n",
       "1  לפני שהתגייסתי לצבא עשיתי כל מני מיונים ליחידו...      m\n",
       "2  מאז שהתחילו הלימודים חלומו של כל סטודנט זה הפנ...      f\n",
       "3  כשהייתי ילד, מטוסים היה הדבר שהכי ריתק אותי. ב...      m\n",
       "4  ‏הייתי מדריכה בכפר נוער ומתאם הכפר היינו צריכי...      f\n",
       "5  לפני כ3 חודשים טסתי לרומא למשך שבוע. טסתי במטו...      f\n",
       "6  אני כבר שנתיים נשוי והשנה אני ואישתי סוף סוף י...      m\n",
       "7  השנה התחלנו שיפוץ בדירה שלנו בתל אביב. הדירה ה...      f"
      ]
     },
     "execution_count": 6,
     "metadata": {},
     "output_type": "execute_result"
    },
    {
     "data": {
      "text/plain": [
       "(753, 2)"
      ]
     },
     "execution_count": 6,
     "metadata": {},
     "output_type": "execute_result"
    }
   ],
   "source": [
    "df_train.head(8)\n",
    "df_train.shape"
   ]
  },
  {
   "cell_type": "code",
   "execution_count": 7,
   "metadata": {},
   "outputs": [
    {
     "data": {
      "text/html": [
       "<div>\n",
       "<style scoped>\n",
       "    .dataframe tbody tr th:only-of-type {\n",
       "        vertical-align: middle;\n",
       "    }\n",
       "\n",
       "    .dataframe tbody tr th {\n",
       "        vertical-align: top;\n",
       "    }\n",
       "\n",
       "    .dataframe thead th {\n",
       "        text-align: right;\n",
       "    }\n",
       "</style>\n",
       "<table border=\"1\" class=\"dataframe\">\n",
       "  <thead>\n",
       "    <tr style=\"text-align: right;\">\n",
       "      <th></th>\n",
       "      <th>test_example_id</th>\n",
       "      <th>story</th>\n",
       "    </tr>\n",
       "  </thead>\n",
       "  <tbody>\n",
       "    <tr>\n",
       "      <th>0</th>\n",
       "      <td>0</td>\n",
       "      <td>כל קיץ אני והמשפחה נוסעים לארצות הברית לוס אנג...</td>\n",
       "    </tr>\n",
       "    <tr>\n",
       "      <th>1</th>\n",
       "      <td>1</td>\n",
       "      <td>הגעתי לשירות המדינה אחרי שנתיים כפעיל בתנועת \"...</td>\n",
       "    </tr>\n",
       "    <tr>\n",
       "      <th>2</th>\n",
       "      <td>2</td>\n",
       "      <td>אחת האהבות הגדולות שלי אלו הכלבים שלי ושל אישת...</td>\n",
       "    </tr>\n",
       "  </tbody>\n",
       "</table>\n",
       "</div>"
      ],
      "text/plain": [
       "   test_example_id                                              story\n",
       "0                0  כל קיץ אני והמשפחה נוסעים לארצות הברית לוס אנג...\n",
       "1                1  הגעתי לשירות המדינה אחרי שנתיים כפעיל בתנועת \"...\n",
       "2                2  אחת האהבות הגדולות שלי אלו הכלבים שלי ושל אישת..."
      ]
     },
     "execution_count": 7,
     "metadata": {},
     "output_type": "execute_result"
    },
    {
     "data": {
      "text/plain": [
       "(323, 2)"
      ]
     },
     "execution_count": 7,
     "metadata": {},
     "output_type": "execute_result"
    }
   ],
   "source": [
    "df_test.head(3)\n",
    "df_test.shape"
   ]
  },
  {
   "cell_type": "markdown",
   "metadata": {},
   "source": [
    "### Your implementation:\n",
    "Write your code solution in the following code-cells"
   ]
  },
  {
   "cell_type": "code",
   "execution_count": 68,
   "metadata": {},
   "outputs": [],
   "source": [
    "# YOUR CODE HERE\n",
    "def cleanUnNecWords(tokenListPerStory):\n",
    "    hebrew_letters =[\n",
    "     \"א\", \"ב\", \"ג\", \"ד\", \"ה\", \"ו\", \"ז\", \"ח\", \"ט\", \"י\",\n",
    "     \"כ\", \"ך\", \"ל\", \"מ\", \"ם\", \"נ\", \"ן\", \"ס\", \"ע\", \"פ\",\n",
    "     \"ף\", \"צ\", \"ץ\", \"ק\", \"ר\", \"ש\", \"ת\"]\n",
    "        \n",
    "    cleanTokenPerStory = tokenListPerStory.copy()\n",
    "    for tok in cleanTokenPerStory:\n",
    "        if(len(tok) == 1): ## There is no 1 letter word in heberew\n",
    "            cleanTokenPerStory.remove(tok)\n",
    "        elif(tok.isnumeric()): ## Numbers will not effect to realize the gender\n",
    "            cleanTokenPerStory.remove(tok)\n",
    "        else: ## Checking if the word is in Heberew\n",
    "             for letter in tok: \n",
    "                if letter not in hebrew_letters:\n",
    "                    cleanTokenPerStory.remove(tok)\n",
    "                    break\n",
    "                    \n",
    "    return cleanTokenPerStory"
   ]
  },
  {
   "cell_type": "code",
   "execution_count": 69,
   "metadata": {},
   "outputs": [
    {
     "data": {
      "text/html": [
       "<div>\n",
       "<style scoped>\n",
       "    .dataframe tbody tr th:only-of-type {\n",
       "        vertical-align: middle;\n",
       "    }\n",
       "\n",
       "    .dataframe tbody tr th {\n",
       "        vertical-align: top;\n",
       "    }\n",
       "\n",
       "    .dataframe thead th {\n",
       "        text-align: right;\n",
       "    }\n",
       "</style>\n",
       "<table border=\"1\" class=\"dataframe\">\n",
       "  <thead>\n",
       "    <tr style=\"text-align: right;\">\n",
       "      <th></th>\n",
       "      <th>story</th>\n",
       "      <th>gender</th>\n",
       "      <th>gender_label</th>\n",
       "      <th>tokens</th>\n",
       "    </tr>\n",
       "  </thead>\n",
       "  <tbody>\n",
       "    <tr>\n",
       "      <th>0</th>\n",
       "      <td>כשחבר הזמין אותי לחול, לא באמת חשבתי שזה יקרה,...</td>\n",
       "      <td>m</td>\n",
       "      <td>1</td>\n",
       "      <td>[כשחבר, הזמין, אותי, לחול, לא, באמת, חשבתי, שז...</td>\n",
       "    </tr>\n",
       "    <tr>\n",
       "      <th>1</th>\n",
       "      <td>לפני שהתגייסתי לצבא עשיתי כל מני מיונים ליחידו...</td>\n",
       "      <td>m</td>\n",
       "      <td>1</td>\n",
       "      <td>[לפני, שהתגייסתי, לצבא, עשיתי, כל, מני, מיונים...</td>\n",
       "    </tr>\n",
       "    <tr>\n",
       "      <th>2</th>\n",
       "      <td>מאז שהתחילו הלימודים חלומו של כל סטודנט זה הפנ...</td>\n",
       "      <td>f</td>\n",
       "      <td>0</td>\n",
       "      <td>[מאז, שהתחילו, הלימודים, חלומו, של, כל, סטודנט...</td>\n",
       "    </tr>\n",
       "    <tr>\n",
       "      <th>3</th>\n",
       "      <td>כשהייתי ילד, מטוסים היה הדבר שהכי ריתק אותי. ב...</td>\n",
       "      <td>m</td>\n",
       "      <td>1</td>\n",
       "      <td>[כשהייתי, ילד, מטוסים, היה, הדבר, שהכי, ריתק, ...</td>\n",
       "    </tr>\n",
       "    <tr>\n",
       "      <th>4</th>\n",
       "      <td>‏הייתי מדריכה בכפר נוער ומתאם הכפר היינו צריכי...</td>\n",
       "      <td>f</td>\n",
       "      <td>0</td>\n",
       "      <td>[הייתי, מדריכה, בכפר, נוער, ומתאם, הכפר, היינו...</td>\n",
       "    </tr>\n",
       "    <tr>\n",
       "      <th>5</th>\n",
       "      <td>לפני כ3 חודשים טסתי לרומא למשך שבוע. טסתי במטו...</td>\n",
       "      <td>f</td>\n",
       "      <td>0</td>\n",
       "      <td>[לפני, 3, חודשים, טסתי, לרומא, למשך, שבוע, טסת...</td>\n",
       "    </tr>\n",
       "    <tr>\n",
       "      <th>6</th>\n",
       "      <td>אני כבר שנתיים נשוי והשנה אני ואישתי סוף סוף י...</td>\n",
       "      <td>m</td>\n",
       "      <td>1</td>\n",
       "      <td>[אני, כבר, שנתיים, נשוי, והשנה, אני, ואישתי, ס...</td>\n",
       "    </tr>\n",
       "    <tr>\n",
       "      <th>7</th>\n",
       "      <td>השנה התחלנו שיפוץ בדירה שלנו בתל אביב. הדירה ה...</td>\n",
       "      <td>f</td>\n",
       "      <td>0</td>\n",
       "      <td>[השנה, התחלנו, שיפוץ, בדירה, שלנו, בתל, אביב, ...</td>\n",
       "    </tr>\n",
       "    <tr>\n",
       "      <th>8</th>\n",
       "      <td>עד לפני כמה חודשים אני הייתי בטוח שכל חיי אהיה...</td>\n",
       "      <td>m</td>\n",
       "      <td>1</td>\n",
       "      <td>[עד, לפני, כמה, חודשים, אני, הייתי, בטוח, שכל,...</td>\n",
       "    </tr>\n",
       "    <tr>\n",
       "      <th>9</th>\n",
       "      <td>בן זוגי חגג יום הולדת, ורציתי להפתיע אותו ולסג...</td>\n",
       "      <td>f</td>\n",
       "      <td>0</td>\n",
       "      <td>[בן, זוגי, חגג, יום, הולדת, ורציתי, להפתיע, או...</td>\n",
       "    </tr>\n",
       "  </tbody>\n",
       "</table>\n",
       "</div>"
      ],
      "text/plain": [
       "                                               story gender  gender_label  \\\n",
       "0  כשחבר הזמין אותי לחול, לא באמת חשבתי שזה יקרה,...      m             1   \n",
       "1  לפני שהתגייסתי לצבא עשיתי כל מני מיונים ליחידו...      m             1   \n",
       "2  מאז שהתחילו הלימודים חלומו של כל סטודנט זה הפנ...      f             0   \n",
       "3  כשהייתי ילד, מטוסים היה הדבר שהכי ריתק אותי. ב...      m             1   \n",
       "4  ‏הייתי מדריכה בכפר נוער ומתאם הכפר היינו צריכי...      f             0   \n",
       "5  לפני כ3 חודשים טסתי לרומא למשך שבוע. טסתי במטו...      f             0   \n",
       "6  אני כבר שנתיים נשוי והשנה אני ואישתי סוף סוף י...      m             1   \n",
       "7  השנה התחלנו שיפוץ בדירה שלנו בתל אביב. הדירה ה...      f             0   \n",
       "8  עד לפני כמה חודשים אני הייתי בטוח שכל חיי אהיה...      m             1   \n",
       "9  בן זוגי חגג יום הולדת, ורציתי להפתיע אותו ולסג...      f             0   \n",
       "\n",
       "                                              tokens  \n",
       "0  [כשחבר, הזמין, אותי, לחול, לא, באמת, חשבתי, שז...  \n",
       "1  [לפני, שהתגייסתי, לצבא, עשיתי, כל, מני, מיונים...  \n",
       "2  [מאז, שהתחילו, הלימודים, חלומו, של, כל, סטודנט...  \n",
       "3  [כשהייתי, ילד, מטוסים, היה, הדבר, שהכי, ריתק, ...  \n",
       "4  [הייתי, מדריכה, בכפר, נוער, ומתאם, הכפר, היינו...  \n",
       "5  [לפני, 3, חודשים, טסתי, לרומא, למשך, שבוע, טסת...  \n",
       "6  [אני, כבר, שנתיים, נשוי, והשנה, אני, ואישתי, ס...  \n",
       "7  [השנה, התחלנו, שיפוץ, בדירה, שלנו, בתל, אביב, ...  \n",
       "8  [עד, לפני, כמה, חודשים, אני, הייתי, בטוח, שכל,...  \n",
       "9  [בן, זוגי, חגג, יום, הולדת, ורציתי, להפתיע, או...  "
      ]
     },
     "execution_count": 69,
     "metadata": {},
     "output_type": "execute_result"
    },
    {
     "name": "stdout",
     "output_type": "stream",
     "text": [
      "296\n"
     ]
    }
   ],
   "source": [
    "\n",
    "df_train_copy=df_train.copy()\n",
    "df_train_copy['gender_label']=df_train_copy['gender'].apply(lambda gen: 1 if gen=='m' else 0)#convert gender to numeric\n",
    "tokens_list=[]\n",
    "#tokenizing\n",
    "for story in df_train_copy['story']: \n",
    "    tokens=ht.tokenize(story)\n",
    "    tok_lst_per_story=[]\n",
    "    for tok in tokens: #ctreating token list per story\n",
    "        tok_lst_per_story.append(tok[1])\n",
    "    cleanToksPerStory = cleanUnNecWords(tok_lst_per_story)\n",
    "    tokens_list.append(cleanToksPerStory)\n",
    "df_train_copy['tokens']=tokens_list\n",
    "df_train_copy.head(10)\n",
    "print(len(tokens_list[5]))"
   ]
  },
  {
   "cell_type": "code",
   "execution_count": 84,
   "metadata": {},
   "outputs": [
    {
     "name": "stdout",
     "output_type": "stream",
     "text": [
      "3\n",
      "Not Hebrew\n",
      "['לפני', 'חודשים', 'טסתי', 'לרומא', 'למשך', 'שבוע', 'טסתי', 'במטוס', 'אל', 'על', 'הטיסה', 'ארכה', 'וחצי', 'שעות', 'לא', 'היו', 'עיכובים', 'נחתנו', 'בערך', 'בשעה', 'בבוקר', 'ברומא', 'מהשדה', 'תעופה', 'נסענו', 'למלון', 'משם', 'הלכנו', 'למזרקת', 'טרווי', 'לפי', 'אגדה', 'מסורתית', 'השלכת', 'מטבע', 'למזרקה', 'ביד', 'ימין', 'מעבר', 'לכתף', 'שמאל', 'מבטיחה', 'את', 'שובו', 'של', 'המשליך', 'לרומא', 'מעריכים', 'כי', 'מטבעות', 'בשווי', 'כשלושת', 'אלפים', 'אירו', 'נגרפות', 'מדי', 'לילה', 'מתחתית', 'המזרקה', 'הסתובבנו', 'באזור', 'של', 'המזרקה', 'לקראת', 'הערב', 'נסענו', 'לארוחת', 'ערב', 'במלון', 'יום', 'למחרת', 'נסענו', 'בבוקר', 'לגני', 'וילה', 'בורגוזה', 'גן', 'בסגנון', 'אנגלי', 'בגן', 'מצויים', 'מספר', 'מבנים', 'המשמשים', 'כיום', 'כמוזיאונים', 'והוא', 'הגן', 'הציבורי', 'השני', 'בגודלו', 'ברומא', 'השכרנו', 'אוטו', 'גולף', 'והיינו', 'שם', 'בערך', 'כשעתיים', 'משם', 'המשכנו', 'לפיאצה', 'דל', 'פופולו', 'כיכר', 'ענקית', 'שמשמעות', 'השם', 'באיטלקית', 'המודרנית', 'היא', 'כיכר', 'העם', 'אחר', 'כך', 'הלכנו', 'למלון', 'להשקה', 'של', 'המכונית', 'ואכלנו', 'שם', 'ארוחת', 'צהרים', 'בערב', 'הלכנו', 'להסתובב', 'ברובע', 'היהודי', 'ובשכונת', 'יום', 'אחרי', 'זה', 'נסענו', 'לוותיקן', 'המדינה', 'העצמאית', 'הקטנה', 'בעולם', 'מבחינת', 'שטחה', 'פחות', 'ממחצית', 'קמ', 'בתוך', 'העיר', 'רומא', 'שבאיטליה', 'וכן', 'מבחינת', 'האוכלוסייה', 'נפשות', 'שם', 'נכנסנו', 'לבזיליקת', 'פטרוס', 'הקדוש', 'מבנה', 'הדת', 'הנוצרי', 'הגדול', 'בעולם', 'ויכול', 'להכיל', 'בתוכו', 'עד', 'איש', 'בערב', 'הלכנו', 'לאכול', 'פיצה', 'באזור', 'מזרקת', 'הטרבי', 'יום', 'למחרת', 'נסענו', 'בבוקר', 'לקוליסאום', 'שהוא', 'למעשה', 'אמפיתיאטרון', 'ענק', 'גודלו', 'המדויק', 'הוא', 'על', 'מטר', 'וגובהו', 'הוא', 'מטר', 'קומות', 'בתקופת', 'השיא', 'שלו', 'הוא', 'איכלס', 'בין', '000', 'צופים', 'משם', 'המשכנו', 'לפנתאון', 'מבנה', 'שהוקם', 'בסביבות', 'שנת', 'לפנה', 'והמשמעות', 'שלו', 'היא', 'מקום', 'סגידה', 'לכל', 'האלים', '\"', '\"', 'ביום', 'האחרון', 'הלכנו', 'למדרכות', 'הספרדיות', 'גרם', 'מדרגות', 'הכולל', 'מדרגות', 'שמקשר', 'בין', 'הפיאצה', 'די', 'ספניה', 'כיכר', 'ספרד', 'לבין', 'פיאצה', 'טריניטה', 'די', 'מונטי', 'וכנסיית', 'טריניטה', 'דיי', 'מונטי', 'המדרגות', 'הספרדיות', 'הן', 'גרם', 'המדרגות', 'הרחב', 'והארוך', 'ביותר', 'באירופה', 'אחרי', 'זה', 'הלכנו', 'לקניון', 'קניון', 'של', 'קומות', 'לאורך', 'כל', 'הטיול', 'היה', 'חם', 'מאוד', 'בערך', 'מעלות', 'אז', 'אכלנו', 'הרבה', 'גלידה', 'בסך', 'הכול', 'הטיול', 'היה', 'כיף', 'ובעיקר', 'טעים']\n"
     ]
    }
   ],
   "source": [
    "# YOUR CODE HERE\n",
    "tokens=ht.tokenize('3')\n",
    "tok_lst_per_story=[]\n",
    "for tok in tokens:\n",
    "    tok_lst_per_story.append(tok[1])\n",
    "\n",
    "for i in tok_lst_per_story:\n",
    "    print(i)\n",
    "    for char in i:\n",
    "        if not (0x0590 <= ord(char) <= 0x05FF):\n",
    "            print(\"Not Hebrew\")\n",
    "        \n",
    "shit = cleanUnNecWords(tokens_list[5])\n",
    "print(shit)"
   ]
  },
  {
   "cell_type": "code",
   "execution_count": 85,
   "metadata": {},
   "outputs": [],
   "source": [
    "# YOUR CODE HERE\n",
    "#wordnet_he = wn.Wordnet('omw-he:1.4')\n",
    "#synsets= wordnet_he.synsets()"
   ]
  },
  {
   "cell_type": "code",
   "execution_count": null,
   "metadata": {},
   "outputs": [],
   "source": [
    "# Add as many code cells as you need\n",
    "# YOUR CODE HERE\n"
   ]
  },
  {
   "cell_type": "code",
   "execution_count": null,
   "metadata": {},
   "outputs": [],
   "source": []
  },
  {
   "cell_type": "code",
   "execution_count": null,
   "metadata": {},
   "outputs": [],
   "source": []
  },
  {
   "cell_type": "code",
   "execution_count": null,
   "metadata": {},
   "outputs": [],
   "source": []
  },
  {
   "cell_type": "code",
   "execution_count": null,
   "metadata": {},
   "outputs": [],
   "source": []
  },
  {
   "cell_type": "code",
   "execution_count": null,
   "metadata": {},
   "outputs": [],
   "source": []
  },
  {
   "cell_type": "code",
   "execution_count": null,
   "metadata": {},
   "outputs": [],
   "source": []
  },
  {
   "cell_type": "code",
   "execution_count": null,
   "metadata": {},
   "outputs": [],
   "source": []
  },
  {
   "cell_type": "code",
   "execution_count": null,
   "metadata": {},
   "outputs": [],
   "source": []
  },
  {
   "cell_type": "code",
   "execution_count": null,
   "metadata": {},
   "outputs": [],
   "source": []
  },
  {
   "cell_type": "code",
   "execution_count": null,
   "metadata": {},
   "outputs": [],
   "source": []
  },
  {
   "cell_type": "markdown",
   "metadata": {},
   "source": [
    "### Save output to csv (optional)\n",
    "After you're done save your output to the 'classification_results.csv' csv file.<br/>\n",
    "We assume that the dataframe with your results contain the following columns:\n",
    "* column 1 (left column): 'test_example_id'  - the same id associated to each of the test stories to be predicted.\n",
    "* column 2 (right column): 'predicted_category' - the predicted gender value for each of the associated story. \n",
    "\n",
    "Assuming your predicted values are in the `df_predicted` dataframe, you should save you're results as following:"
   ]
  },
  {
   "cell_type": "code",
   "execution_count": null,
   "metadata": {},
   "outputs": [],
   "source": [
    "df_predicted.to_csv('classification_results.csv',index=False)"
   ]
  }
 ],
 "metadata": {
  "celltoolbar": "Create Assignment",
  "kernelspec": {
   "display_name": "Python 3 (ipykernel)",
   "language": "python",
   "name": "python3"
  },
  "language_info": {
   "codemirror_mode": {
    "name": "ipython",
    "version": 3
   },
   "file_extension": ".py",
   "mimetype": "text/x-python",
   "name": "python",
   "nbconvert_exporter": "python",
   "pygments_lexer": "ipython3",
   "version": "3.10.1"
  }
 },
 "nbformat": 4,
 "nbformat_minor": 4
}
